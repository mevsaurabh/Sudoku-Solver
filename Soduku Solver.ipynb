{
 "cells": [
  {
   "cell_type": "code",
   "execution_count": 1,
   "id": "a6ca2624-1e9f-47eb-8abf-307a23768ab2",
   "metadata": {},
   "outputs": [
    {
     "name": "stdout",
     "output_type": "stream",
     "text": [
      "[[4 1 5 7 6 3 9 2 8]\n",
      " [8 6 3 2 5 9 4 1 7]\n",
      " [7 2 9 4 8 1 6 3 5]\n",
      " [5 8 1 9 7 6 3 4 2]\n",
      " [2 9 4 5 3 8 7 6 1]\n",
      " [3 7 6 1 2 4 5 8 9]\n",
      " [1 3 2 6 9 5 8 7 4]\n",
      " [6 5 7 8 4 2 1 9 3]\n",
      " [9 4 8 3 1 7 2 5 6]]\n"
     ]
    }
   ],
   "source": [
    "import numpy\n",
    "\n",
    "puzzle = [[0, 0, 0, 0, 0, 0, 0, 2, 8],\n",
    "           [0, 6, 0, 0, 0, 0, 0, 0, 7],\n",
    "           [0, 0, 0, 4, 0, 1, 0, 0, 0],\n",
    "           [5, 0, 0, 9, 7, 0, 3, 0, 0],\n",
    "           [2, 0, 4, 0, 0, 8, 0, 0, 0],\n",
    "           [3, 0, 0, 0, 0, 4, 5, 0, 0],\n",
    "           [1, 3, 0, 0, 9, 0, 0, 0, 0],\n",
    "           [0, 5, 7, 0, 0, 0, 0, 9, 0],\n",
    "           [0, 0, 8, 3, 1, 7, 0, 0, 0]]\n",
    "\n",
    "puzzle2 = [[0, 0, 0, 4, 0, 1, 0, 0, 6],\n",
    "          [0, 0, 3, 0, 0, 8, 0, 9, 0],\n",
    "          [0, 7, 0, 0, 6, 0, 0, 0, 0],\n",
    "          [1, 0, 0, 0, 0, 6, 0, 0, 0],\n",
    "          [0, 0, 9, 0, 0, 0, 0, 4, 0],\n",
    "          [3, 4, 0, 2, 0, 0, 6, 0, 5],\n",
    "          [0, 0, 0, 0, 0, 5, 0, 8, 0],\n",
    "          [0, 9, 0, 0, 1, 0, 7, 0, 0],\n",
    "          [4, 0, 0, 0, 0, 7, 0, 0, 3]]\n",
    "\n",
    "\n",
    "def valid(row, col, value):\n",
    "    # check row, column, then 3xx3 block\n",
    "    global puzzle\n",
    "    for i in range(0, 9):\n",
    "        if puzzle[row][i] == value:\n",
    "            return False\n",
    "    for i in range(0, 9):\n",
    "        if puzzle[i][col] == value:\n",
    "            return False\n",
    "    x_start = (col // 3) * 3\n",
    "    y_start = (row // 3) * 3\n",
    "    for i in range(0, 3):\n",
    "        for j in range(0, 3):\n",
    "            if puzzle[y_start + i][x_start + j] == value:\n",
    "                return False\n",
    "    return True\n",
    "\n",
    "\n",
    "def iterate():\n",
    "    global puzzle\n",
    "    for i in range(0, 9):\n",
    "        for j in range(0, 9):\n",
    "            if puzzle[i][j] == 0:\n",
    "                for num in range(1, 10):\n",
    "                    if valid(i, j, num):\n",
    "                        puzzle[i][j] = num\n",
    "                        iterate()\n",
    "                        puzzle[i][j] = 0\n",
    "\n",
    "                return\n",
    "\n",
    "    print(numpy.matrix(puzzle))\n",
    "\n",
    "\n",
    "iterate()"
   ]
  },
  {
   "cell_type": "code",
   "execution_count": null,
   "id": "e33cf694-118a-41d5-8c0a-e880ce1a6e09",
   "metadata": {},
   "outputs": [],
   "source": []
  }
 ],
 "metadata": {
  "kernelspec": {
   "display_name": "Python 3 (ipykernel)",
   "language": "python",
   "name": "python3"
  },
  "language_info": {
   "codemirror_mode": {
    "name": "ipython",
    "version": 3
   },
   "file_extension": ".py",
   "mimetype": "text/x-python",
   "name": "python",
   "nbconvert_exporter": "python",
   "pygments_lexer": "ipython3",
   "version": "3.11.5"
  }
 },
 "nbformat": 4,
 "nbformat_minor": 5
}
